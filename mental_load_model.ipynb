{
  "nbformat": 4,
  "nbformat_minor": 0,
  "metadata": {
    "colab": {
      "name": "mental-load-model.ipynb",
      "provenance": [],
      "collapsed_sections": [],
      "mount_file_id": "1cbYUxt1GX2jiTCdtLUfCV1tozRB0MpuA",
      "authorship_tag": "ABX9TyN/pvQXX3MNF+brk1Z+V0Lt",
      "include_colab_link": true
    },
    "kernelspec": {
      "name": "python3",
      "display_name": "Python 3"
    },
    "language_info": {
      "name": "python"
    },
    "accelerator": "GPU"
  },
  "cells": [
    {
      "cell_type": "markdown",
      "metadata": {
        "id": "view-in-github",
        "colab_type": "text"
      },
      "source": [
        "<a href=\"https://colab.research.google.com/github/avocadopelvis/mental-load/blob/main/mental_load_model.ipynb\" target=\"_parent\"><img src=\"https://colab.research.google.com/assets/colab-badge.svg\" alt=\"Open In Colab\"/></a>"
      ]
    },
    {
      "cell_type": "code",
      "source": [
        "import os\n",
        "import pandas as pd\n",
        "import torch\n",
        "from torch.utils.data import Dataset, DataLoader"
      ],
      "metadata": {
        "id": "ypnKquskuawT"
      },
      "execution_count": 2,
      "outputs": []
    },
    {
      "cell_type": "code",
      "execution_count": 37,
      "metadata": {
        "id": "lK8dUdUnuACG"
      },
      "outputs": [],
      "source": [
        "# #LOAD DATA\n",
        "# df = pd.read_csv(\"/content/drive/MyDrive/MENTAL-LOAD-DATASET/final.csv\")\n",
        "# df = df.drop(df.columns[0], axis = 1)\n",
        "# df"
      ]
    },
    {
      "cell_type": "code",
      "source": [
        "# X = df.iloc[:, 0:3840]\n",
        "# y = df[\"label\"]"
      ],
      "metadata": {
        "id": "juxwWih1u8qa"
      },
      "execution_count": 6,
      "outputs": []
    },
    {
      "cell_type": "code",
      "source": [
        "# use gpu if available \n",
        "device = \"cuda\" if torch.cuda.is_available() else \"cpu\"\n",
        "print(f\"Using {device} device\")"
      ],
      "metadata": {
        "colab": {
          "base_uri": "https://localhost:8080/"
        },
        "id": "62DOKeozmzVw",
        "outputId": "30e3d823-d01c-4eb9-a11f-125ea88f82b8"
      },
      "execution_count": 45,
      "outputs": [
        {
          "output_type": "stream",
          "name": "stdout",
          "text": [
            "Using cuda device\n"
          ]
        }
      ]
    },
    {
      "cell_type": "code",
      "source": [
        "class SignalDataset(Dataset):\n",
        "    def __init__(self):\n",
        "      # load dataset\n",
        "      df = pd.read_csv(\"/content/drive/MyDrive/MENTAL-LOAD-DATASET/final.csv\")\n",
        "      # drop first column\n",
        "      df = df.drop(df.columns[0], axis = 1)\n",
        "      # get x and convert to tensor\n",
        "      self.x = torch.tensor(df.iloc[:, 0:3840].values)\n",
        "      # get y and convert to tensor\n",
        "      self.y = torch.tensor(df[\"label\"].values)\n",
        "      # get number of samples\n",
        "      self.n_samples = df.shape[0]\n",
        "\n",
        "    def __len__(self):\n",
        "      return self.n_samples\n",
        "\n",
        "    def __getitem__(self, idx):\n",
        "      return self.x[idx], self.y[idx]"
      ],
      "metadata": {
        "id": "OHEkU17GwBfg"
      },
      "execution_count": 42,
      "outputs": []
    },
    {
      "cell_type": "code",
      "source": [
        "dataset = SignalDataset()\n",
        "# first = data[0]\n",
        "# X, y = first\n",
        "# print(X, y)"
      ],
      "metadata": {
        "id": "f0V1egMmZSNs"
      },
      "execution_count": 49,
      "outputs": []
    },
    {
      "cell_type": "code",
      "source": [
        "# from sklearn.model_selection import train_test_split\n",
        "# X_train, X_test, y_train, y_test = train_test_split(X, y, test_size=0.3, random_state = 42)\n",
        "# X_train, X_test = train_test_split(X, test_size=0.3, random_state = 42)"
      ],
      "metadata": {
        "id": "iO5O3W9m73mm"
      },
      "execution_count": 52,
      "outputs": []
    },
    {
      "cell_type": "markdown",
      "source": [
        "# Preparing data for training with DataLoaders"
      ],
      "metadata": {
        "id": "8NkaFlPimPkS"
      }
    },
    {
      "cell_type": "code",
      "source": [
        "dataloader = DataLoader(dataset, batch_size=10, shuffle=True) #,num_workers = 2\n",
        "# test_dataloader = DataLoader(X_test, batch_size=64, shuffle=True)"
      ],
      "metadata": {
        "id": "anGZpUcGkO8s"
      },
      "execution_count": 50,
      "outputs": []
    },
    {
      "cell_type": "code",
      "source": [
        "dataiter = iter(dataloader)\n",
        "data = dataiter.next()\n",
        "features, labels = data\n",
        "print(features, labels)"
      ],
      "metadata": {
        "colab": {
          "base_uri": "https://localhost:8080/"
        },
        "id": "7bLWkoEOfhT_",
        "outputId": "7fc948d1-8a4a-455e-8355-30190bdea8c8"
      },
      "execution_count": 51,
      "outputs": [
        {
          "output_type": "stream",
          "name": "stdout",
          "text": [
            "tensor([[-1.0011e-01, -9.9034e-02, -9.4951e-02,  ...,  3.5140e-01,\n",
            "          2.5248e-01,  8.1316e-02],\n",
            "        [ 9.5558e-02,  8.9113e-02,  8.8114e-02,  ...,  2.4466e-01,\n",
            "          2.3428e-01,  2.1916e-01],\n",
            "        [ 2.3440e-03, -1.2204e-02, -1.7712e-02,  ...,  2.1364e-01,\n",
            "          1.9310e-01,  1.6481e-01],\n",
            "        ...,\n",
            "        [-1.4220e-01, -1.3518e-01, -1.2609e-01,  ..., -3.7013e-02,\n",
            "         -3.1774e-02, -2.7809e-02],\n",
            "        [ 8.1470e-04,  1.8640e-02,  8.8430e-02,  ...,  9.3797e-01,\n",
            "          6.1095e-01,  2.6607e-01],\n",
            "        [-7.6035e-02, -7.4445e-02, -7.1826e-02,  ..., -2.5981e-03,\n",
            "         -6.0226e-03, -6.7072e-03]], dtype=torch.float64) tensor([1, 2, 2, 2, 2, 0, 1, 1, 0, 1])\n"
          ]
        }
      ]
    },
    {
      "cell_type": "code",
      "source": [
        "# from torch import nn\n",
        "\n",
        "# class NeuralNetwork(nn.Module):\n",
        "#     def __init__(self):\n",
        "#         super(NeuralNetwork, self).__init__()\n",
        "#         self.flatten = nn.Flatten()\n",
        "#         self.linear_relu_stack = nn.Sequential(\n",
        "#             nn.Linear(28*28, 512),\n",
        "#             nn.ReLU(),\n",
        "#             nn.Linear(512, 512),\n",
        "#             nn.ReLU(),\n",
        "#             nn.Linear(512, 10),\n",
        "#         )\n",
        "\n",
        "#     def forward(self, x):\n",
        "#         x = self.flatten(x)\n",
        "#         logits = self.linear_relu_stack(x)\n",
        "#         return logits"
      ],
      "metadata": {
        "id": "BYBgGJVRmHvZ"
      },
      "execution_count": 8,
      "outputs": []
    },
    {
      "cell_type": "code",
      "source": [
        "# model = NeuralNetwork().to(device)\n",
        "# print(model)"
      ],
      "metadata": {
        "id": "80Q9jKZPnQpJ"
      },
      "execution_count": 48,
      "outputs": []
    },
    {
      "cell_type": "code",
      "source": [
        "# loss_fn = torch.nn.CrossEntropyLoss()\n",
        "# optimizer = torch.optim.SGD(model.parameters(), lr=0.001, momentum=0.9)"
      ],
      "metadata": {
        "id": "YZVawr1_oZ9o"
      },
      "execution_count": 10,
      "outputs": []
    },
    {
      "cell_type": "code",
      "source": [
        "# for epoch in range(2):  # loop over the dataset multiple times\n",
        "\n",
        "#     running_loss = 0.0\n",
        "#     for i, data in enumerate(dataloader, 0):\n",
        "#         # get the inputs and labels\n",
        "#         inputs, labels = data\n",
        "\n",
        "#         # zero the parameter gradients\n",
        "#         optimizer.zero_grad()\n",
        "\n",
        "#         # forward + backward + optimize\n",
        "#         outputs = net(inputs)\n",
        "          # calculate loss\n",
        "#         loss = criterion(outputs, labels)\n",
        "#         loss.backward()\n",
        "#         optimizer.step()\n",
        "\n",
        "#         # print statistics\n",
        "#         running_loss += loss.item()\n",
        "#         if i % 2000 == 1999:    # print every 2000 mini-batches\n",
        "#             print(f'[{epoch + 1}, {i + 1:5d}] loss: {running_loss / 2000:.3f}')\n",
        "#             running_loss = 0.0\n",
        "\n",
        "# print('Finished Training')"
      ],
      "metadata": {
        "id": "DJuaozZLof_f"
      },
      "execution_count": 47,
      "outputs": []
    },
    {
      "cell_type": "code",
      "source": [
        "# class SignalDataset(Dataset):\n",
        "#     def __init__(self, annotations_file, img_dir, transform=None, target_transform=None):\n",
        "#         self.labels = y\n",
        "#         self.samples = X\n",
        "#         self.transform = transform\n",
        "#         self.target_transform = target_transform\n",
        "\n",
        "#     def __len__(self):\n",
        "#         return len(self.labels)\n",
        "\n",
        "#     def __getitem__(self, idx):\n",
        "#         path = os.path.join(self.samples.iloc[idx, 0], self.labels.iloc[idx, 0])\n",
        "#         sample = self.samples.iloc[idx, 0]  #FIGURE OUT HOW TO READ SAMPLE\n",
        "#         label = self.labels.iloc[idx, 1]\n",
        "#         if self.transform:\n",
        "#             sample = self.transform(sample)\n",
        "#         if self.target_transform:\n",
        "#             label = self.target_transform(label)\n",
        "#         return sample, label"
      ],
      "metadata": {
        "id": "nLk0iE3GowRZ"
      },
      "execution_count": null,
      "outputs": []
    }
  ]
}