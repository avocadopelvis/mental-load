{
  "nbformat": 4,
  "nbformat_minor": 0,
  "metadata": {
    "colab": {
      "name": "mental-load-data.ipynb",
      "provenance": [],
      "mount_file_id": "1PfIaSBu2DORfQkCypUmDUttE7gB8TPSw",
      "authorship_tag": "ABX9TyMCMVBoAM6c2FfR9+DZCty/",
      "include_colab_link": true
    },
    "kernelspec": {
      "name": "python3",
      "display_name": "Python 3"
    },
    "language_info": {
      "name": "python"
    }
  },
  "cells": [
    {
      "cell_type": "markdown",
      "metadata": {
        "id": "view-in-github",
        "colab_type": "text"
      },
      "source": [
        "<a href=\"https://colab.research.google.com/github/avocadopelvis/mental-load/blob/main/mental_load_data.ipynb\" target=\"_parent\"><img src=\"https://colab.research.google.com/assets/colab-badge.svg\" alt=\"Open In Colab\"/></a>"
      ]
    },
    {
      "cell_type": "code",
      "execution_count": 1,
      "metadata": {
        "id": "6Bz0d_C5pOVS"
      },
      "outputs": [],
      "source": [
        "import pandas as pd\n",
        "import matplotlib.pyplot as plt"
      ]
    },
    {
      "cell_type": "code",
      "source": [
        "#final\n",
        "final = []"
      ],
      "metadata": {
        "id": "j7noMR1li4CD"
      },
      "execution_count": 70,
      "outputs": []
    },
    {
      "cell_type": "code",
      "source": [
        "folders = [\"004\", \"005\", \"008\", \"010\", \"011\", \"012\", \"013\", \"014\", \"015\", \"016\", \"017\", \"018\", \"019\", \"020\", \"021\", \"022\", \"023\", \"024\", \"025\"]\n",
        "\n",
        "# iterate through the folder of each subject\n",
        "for folder in folders:\n",
        "  # LOAD DATA\n",
        "  data = pd.read_csv(f\"/content/drive/MyDrive/MENTAL-LOAD-DATASET/{folder}/inf_ecg.csv\")\n",
        "  rest_data = pd.read_csv(f\"/content/drive/MyDrive/MENTAL-LOAD-DATASET/{folder}/inf_resting.csv\") \n",
        "\n",
        "  # drop columns in data\n",
        "  data = data.drop([\"Trial 2:2back\", \"Trial 4:2back\"], axis = 1)\n",
        "\n",
        "  # get resting ecg column\n",
        "  rest_data = rest_data[\"Resting_ECG\"]\n",
        "\n",
        "  # convert it into a numpy array\n",
        "  rest_data = rest_data.to_numpy()\n",
        "\n",
        "  # insert resting ecg column to 0th position\n",
        "  data.insert(0, \"Resting_ECG\", rest_data)"
      ],
      "metadata": {
        "colab": {
          "base_uri": "https://localhost:8080/"
        },
        "id": "CSM44gu4OScn",
        "outputId": "07d57b12-4113-40e3-c6fa-27bb58b57029"
      },
      "execution_count": 38,
      "outputs": [
        {
          "output_type": "execute_result",
          "data": {
            "text/plain": [
              "21"
            ]
          },
          "metadata": {},
          "execution_count": 38
        }
      ]
    },
    {
      "cell_type": "code",
      "source": [
        ""
      ],
      "metadata": {
        "id": "pQt2sX4Vrkov"
      },
      "execution_count": 71,
      "outputs": []
    },
    {
      "cell_type": "code",
      "source": [
        ""
      ],
      "metadata": {
        "colab": {
          "base_uri": "https://localhost:8080/",
          "height": 424
        },
        "id": "ib5P55O1SSdq",
        "outputId": "c217480a-968f-46f1-aec2-4e25c52b8fb9"
      },
      "execution_count": 72,
      "outputs": [
        {
          "output_type": "execute_result",
          "data": {
            "text/plain": [
              "       Resting_ECG  Trial 1:0back  Trial 3:3back  Trial 5:3back  Trial 6:0back\n",
              "0           -0.105         -0.084          0.213          0.122          0.207\n",
              "1           -0.158         -0.066          0.213          0.282          0.203\n",
              "2           -0.171         -0.038          0.224          0.428          0.210\n",
              "3           -0.165         -0.038          0.220          0.451          0.215\n",
              "4           -0.131         -0.061          0.223          0.318          0.220\n",
              "...            ...            ...            ...            ...            ...\n",
              "76795        0.078         -0.055         -0.116         -0.082          0.220\n",
              "76796        0.074         -0.063         -0.132         -0.085          0.219\n",
              "76797        0.070         -0.068         -0.138         -0.083          0.225\n",
              "76798        0.063         -0.073         -0.132         -0.079          0.218\n",
              "76799        0.061         -0.072         -0.126         -0.081          0.214\n",
              "\n",
              "[76800 rows x 5 columns]"
            ],
            "text/html": [
              "\n",
              "  <div id=\"df-bbbd365d-4604-421e-bc81-b51fc861aceb\">\n",
              "    <div class=\"colab-df-container\">\n",
              "      <div>\n",
              "<style scoped>\n",
              "    .dataframe tbody tr th:only-of-type {\n",
              "        vertical-align: middle;\n",
              "    }\n",
              "\n",
              "    .dataframe tbody tr th {\n",
              "        vertical-align: top;\n",
              "    }\n",
              "\n",
              "    .dataframe thead th {\n",
              "        text-align: right;\n",
              "    }\n",
              "</style>\n",
              "<table border=\"1\" class=\"dataframe\">\n",
              "  <thead>\n",
              "    <tr style=\"text-align: right;\">\n",
              "      <th></th>\n",
              "      <th>Resting_ECG</th>\n",
              "      <th>Trial 1:0back</th>\n",
              "      <th>Trial 3:3back</th>\n",
              "      <th>Trial 5:3back</th>\n",
              "      <th>Trial 6:0back</th>\n",
              "    </tr>\n",
              "  </thead>\n",
              "  <tbody>\n",
              "    <tr>\n",
              "      <th>0</th>\n",
              "      <td>-0.105</td>\n",
              "      <td>-0.084</td>\n",
              "      <td>0.213</td>\n",
              "      <td>0.122</td>\n",
              "      <td>0.207</td>\n",
              "    </tr>\n",
              "    <tr>\n",
              "      <th>1</th>\n",
              "      <td>-0.158</td>\n",
              "      <td>-0.066</td>\n",
              "      <td>0.213</td>\n",
              "      <td>0.282</td>\n",
              "      <td>0.203</td>\n",
              "    </tr>\n",
              "    <tr>\n",
              "      <th>2</th>\n",
              "      <td>-0.171</td>\n",
              "      <td>-0.038</td>\n",
              "      <td>0.224</td>\n",
              "      <td>0.428</td>\n",
              "      <td>0.210</td>\n",
              "    </tr>\n",
              "    <tr>\n",
              "      <th>3</th>\n",
              "      <td>-0.165</td>\n",
              "      <td>-0.038</td>\n",
              "      <td>0.220</td>\n",
              "      <td>0.451</td>\n",
              "      <td>0.215</td>\n",
              "    </tr>\n",
              "    <tr>\n",
              "      <th>4</th>\n",
              "      <td>-0.131</td>\n",
              "      <td>-0.061</td>\n",
              "      <td>0.223</td>\n",
              "      <td>0.318</td>\n",
              "      <td>0.220</td>\n",
              "    </tr>\n",
              "    <tr>\n",
              "      <th>...</th>\n",
              "      <td>...</td>\n",
              "      <td>...</td>\n",
              "      <td>...</td>\n",
              "      <td>...</td>\n",
              "      <td>...</td>\n",
              "    </tr>\n",
              "    <tr>\n",
              "      <th>76795</th>\n",
              "      <td>0.078</td>\n",
              "      <td>-0.055</td>\n",
              "      <td>-0.116</td>\n",
              "      <td>-0.082</td>\n",
              "      <td>0.220</td>\n",
              "    </tr>\n",
              "    <tr>\n",
              "      <th>76796</th>\n",
              "      <td>0.074</td>\n",
              "      <td>-0.063</td>\n",
              "      <td>-0.132</td>\n",
              "      <td>-0.085</td>\n",
              "      <td>0.219</td>\n",
              "    </tr>\n",
              "    <tr>\n",
              "      <th>76797</th>\n",
              "      <td>0.070</td>\n",
              "      <td>-0.068</td>\n",
              "      <td>-0.138</td>\n",
              "      <td>-0.083</td>\n",
              "      <td>0.225</td>\n",
              "    </tr>\n",
              "    <tr>\n",
              "      <th>76798</th>\n",
              "      <td>0.063</td>\n",
              "      <td>-0.073</td>\n",
              "      <td>-0.132</td>\n",
              "      <td>-0.079</td>\n",
              "      <td>0.218</td>\n",
              "    </tr>\n",
              "    <tr>\n",
              "      <th>76799</th>\n",
              "      <td>0.061</td>\n",
              "      <td>-0.072</td>\n",
              "      <td>-0.126</td>\n",
              "      <td>-0.081</td>\n",
              "      <td>0.214</td>\n",
              "    </tr>\n",
              "  </tbody>\n",
              "</table>\n",
              "<p>76800 rows × 5 columns</p>\n",
              "</div>\n",
              "      <button class=\"colab-df-convert\" onclick=\"convertToInteractive('df-bbbd365d-4604-421e-bc81-b51fc861aceb')\"\n",
              "              title=\"Convert this dataframe to an interactive table.\"\n",
              "              style=\"display:none;\">\n",
              "        \n",
              "  <svg xmlns=\"http://www.w3.org/2000/svg\" height=\"24px\"viewBox=\"0 0 24 24\"\n",
              "       width=\"24px\">\n",
              "    <path d=\"M0 0h24v24H0V0z\" fill=\"none\"/>\n",
              "    <path d=\"M18.56 5.44l.94 2.06.94-2.06 2.06-.94-2.06-.94-.94-2.06-.94 2.06-2.06.94zm-11 1L8.5 8.5l.94-2.06 2.06-.94-2.06-.94L8.5 2.5l-.94 2.06-2.06.94zm10 10l.94 2.06.94-2.06 2.06-.94-2.06-.94-.94-2.06-.94 2.06-2.06.94z\"/><path d=\"M17.41 7.96l-1.37-1.37c-.4-.4-.92-.59-1.43-.59-.52 0-1.04.2-1.43.59L10.3 9.45l-7.72 7.72c-.78.78-.78 2.05 0 2.83L4 21.41c.39.39.9.59 1.41.59.51 0 1.02-.2 1.41-.59l7.78-7.78 2.81-2.81c.8-.78.8-2.07 0-2.86zM5.41 20L4 18.59l7.72-7.72 1.47 1.35L5.41 20z\"/>\n",
              "  </svg>\n",
              "      </button>\n",
              "      \n",
              "  <style>\n",
              "    .colab-df-container {\n",
              "      display:flex;\n",
              "      flex-wrap:wrap;\n",
              "      gap: 12px;\n",
              "    }\n",
              "\n",
              "    .colab-df-convert {\n",
              "      background-color: #E8F0FE;\n",
              "      border: none;\n",
              "      border-radius: 50%;\n",
              "      cursor: pointer;\n",
              "      display: none;\n",
              "      fill: #1967D2;\n",
              "      height: 32px;\n",
              "      padding: 0 0 0 0;\n",
              "      width: 32px;\n",
              "    }\n",
              "\n",
              "    .colab-df-convert:hover {\n",
              "      background-color: #E2EBFA;\n",
              "      box-shadow: 0px 1px 2px rgba(60, 64, 67, 0.3), 0px 1px 3px 1px rgba(60, 64, 67, 0.15);\n",
              "      fill: #174EA6;\n",
              "    }\n",
              "\n",
              "    [theme=dark] .colab-df-convert {\n",
              "      background-color: #3B4455;\n",
              "      fill: #D2E3FC;\n",
              "    }\n",
              "\n",
              "    [theme=dark] .colab-df-convert:hover {\n",
              "      background-color: #434B5C;\n",
              "      box-shadow: 0px 1px 3px 1px rgba(0, 0, 0, 0.15);\n",
              "      filter: drop-shadow(0px 1px 2px rgba(0, 0, 0, 0.3));\n",
              "      fill: #FFFFFF;\n",
              "    }\n",
              "  </style>\n",
              "\n",
              "      <script>\n",
              "        const buttonEl =\n",
              "          document.querySelector('#df-bbbd365d-4604-421e-bc81-b51fc861aceb button.colab-df-convert');\n",
              "        buttonEl.style.display =\n",
              "          google.colab.kernel.accessAllowed ? 'block' : 'none';\n",
              "\n",
              "        async function convertToInteractive(key) {\n",
              "          const element = document.querySelector('#df-bbbd365d-4604-421e-bc81-b51fc861aceb');\n",
              "          const dataTable =\n",
              "            await google.colab.kernel.invokeFunction('convertToInteractive',\n",
              "                                                     [key], {});\n",
              "          if (!dataTable) return;\n",
              "\n",
              "          const docLinkHtml = 'Like what you see? Visit the ' +\n",
              "            '<a target=\"_blank\" href=https://colab.research.google.com/notebooks/data_table.ipynb>data table notebook</a>'\n",
              "            + ' to learn more about interactive tables.';\n",
              "          element.innerHTML = '';\n",
              "          dataTable['output_type'] = 'display_data';\n",
              "          await google.colab.output.renderOutput(dataTable, element);\n",
              "          const docLink = document.createElement('div');\n",
              "          docLink.innerHTML = docLinkHtml;\n",
              "          element.appendChild(docLink);\n",
              "        }\n",
              "      </script>\n",
              "    </div>\n",
              "  </div>\n",
              "  "
            ]
          },
          "metadata": {},
          "execution_count": 72
        }
      ]
    },
    {
      "cell_type": "code",
      "source": [
        "#iterate through data's columns\n",
        "for col in data.columns:\n",
        "  #take a single column\n",
        "  data_col = data[col]\n",
        "\n",
        "  # convert column (df) to numpy array\n",
        "  data_arr = data_col.to_numpy()\n",
        "\n",
        "  # FILTER THE SIGNAL\n",
        "  from scipy.signal import butter, lfilter\n",
        "\n",
        "  def bandpass(lowcut, highcut, order=5):\n",
        "      nyq = 0.5 * fs\n",
        "      low = lowcut / nyq\n",
        "      high = highcut / nyq\n",
        "      b, a = butter(order, [low, high], btype='band')\n",
        "      return b, a\n",
        "\n",
        "  fs = 256\n",
        "  lowcut = 0.1\n",
        "  highcut = 45\n",
        "  b,a = bandpass(lowcut,highcut)\n",
        "  ecg_raw = data_arr\n",
        "  ecg_filter = lfilter(b,a,ecg_raw)\n",
        "\n",
        "  # BREAK THE SIGNAL\n",
        "  m = 0\n",
        "  n = 3840\n",
        "\n",
        "  while n < 76801:\n",
        "    row = ecg_filter[m:n]\n",
        "    #append to final\n",
        "    final.append(row)\n",
        "    m += 3840\n",
        "    n += 3840\n",
        "\n",
        "# load final as a df\n",
        "df = pd.DataFrame(final)\n",
        "\n",
        "# assign labels\n",
        "df = df.assign(label = 20*[0] + 20*[1] + 20*[2] + 20*[2] + 20*[1])\n",
        "df"
      ],
      "metadata": {
        "id": "By04Artd4RjN"
      },
      "execution_count": 73,
      "outputs": []
    },
    {
      "cell_type": "code",
      "source": [
        "# convert df to csv\n",
        "df.to_csv(\"/content/drive/MyDrive/MENTAL-LOAD-DATASET/final.csv\")"
      ],
      "metadata": {
        "id": "kPUvxPv-TM-k"
      },
      "execution_count": 83,
      "outputs": []
    },
    {
      "cell_type": "markdown",
      "source": [
        "# TEST"
      ],
      "metadata": {
        "id": "8bGbegB9klkN"
      }
    },
    {
      "cell_type": "code",
      "source": [
        "# [0, 0, 0, 0, 0, 0, 0, 0, 0, 0, 0, 0, 0, 0, 0, 0, 0, 0, 0, 0, 1, 1, 1, 1, 1, 1, 1, 1, 1, 1, 1, 1, 1, 1, 1, 1, 1, 1, 1, 1, 2, 2, 2, 2, 2, 2, 2, 2, 2, 2, 2, 2, 2, 2, 2, 2, 2, 2, 2, 2, 2, 2, 2, 2, 2, 2, 2, 2, 2, 2, 2, 2, 2, 2, 2, 2, 2, 2, 2, 2, 1, 1, 1, 1, 1, 1, 1, 1, 1, 1, 1, 1, 1, 1, 1, 1, 1, 1, 1, 1]\n",
        "# cols = [\"Resting_ECG\", \"Trial 1:0back\", \"Trial 3:3back\", \"Trial 5:3back\", \"Trial 6:0back\"]"
      ],
      "metadata": {
        "id": "A0DQxhLFYbuz"
      },
      "execution_count": 82,
      "outputs": []
    },
    {
      "cell_type": "code",
      "source": [
        "test = pd.read_csv(f\"/content/drive/MyDrive/MENTAL-LOAD-DATASET/{x}/inf_resting.csv\")\n",
        "\n",
        "# get resting ecg column\n",
        "test = test[\"Resting_ECG\"]\n",
        "\n",
        "# convert it into a numpy array\n",
        "test_arr = test.to_numpy()\n",
        "\n",
        "final1 = []"
      ],
      "metadata": {
        "id": "iJoFeOW4iDHb"
      },
      "execution_count": 87,
      "outputs": []
    },
    {
      "cell_type": "code",
      "source": [
        "# FILTER THE SIGNAL\n",
        "from scipy.signal import butter, lfilter\n",
        "\n",
        "def bandpass(lowcut, highcut, order=5):\n",
        "    nyq = 0.5 * fs\n",
        "    low = lowcut / nyq\n",
        "    high = highcut / nyq\n",
        "    b, a = butter(order, [low, high], btype='band')\n",
        "    return b, a\n",
        "\n",
        "fs = 256\n",
        "lowcut = 0.1\n",
        "highcut = 45\n",
        "b,a = bandpass(lowcut,highcut)\n",
        "ecg_raw = test_arr\n",
        "ecg_filter = lfilter(b,a,ecg_raw)\n",
        "\n",
        "# BREAK THE SIGNAL\n",
        "m = 0\n",
        "n = 3840\n",
        "\n",
        "while n < 76801:\n",
        "  row = ecg_filter[m:n]\n",
        "  #append to final\n",
        "  final1.append(row)\n",
        "  m += 3840\n",
        "  n += 3840"
      ],
      "metadata": {
        "id": "jCwjoFhqYraV"
      },
      "execution_count": 88,
      "outputs": []
    },
    {
      "cell_type": "code",
      "source": [
        ""
      ],
      "metadata": {
        "id": "_7KBdxSShoCV"
      },
      "execution_count": 91,
      "outputs": []
    },
    {
      "cell_type": "code",
      "source": [
        ""
      ],
      "metadata": {
        "id": "4Ettdcz4mZM-"
      },
      "execution_count": 82,
      "outputs": []
    }
  ]
}